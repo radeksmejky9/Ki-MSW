{
 "cells": [
  {
   "cell_type": "code",
   "execution_count": null,
   "metadata": {},
   "outputs": [],
   "source": [
    "import pandas as pd\n",
    "import matplotlib.pyplot as plt\n",
    "\n",
    "df = pd.read_csv(\"ada-usd.csv\")\n",
    "df[\"Date\"] = pd.to_datetime(df[\"Date\"])\n",
    "df[\"Year\"] = df[\"Date\"].dt.year"
   ]
  },
  {
   "cell_type": "code",
   "execution_count": null,
   "metadata": {},
   "outputs": [],
   "source": [
    "# Box Plot of Volume by Year\n",
    "plt.figure(figsize=(12, 6))\n",
    "boxplot_data = df.groupby(df[\"Date\"].dt.year)[\"Volume\"].apply(list)\n",
    "plt.boxplot(boxplot_data, vert=True)\n",
    "plt.ylabel(\"Volume\")\n",
    "years = sorted(df[\"Year\"].unique())\n",
    "plt.xticks(range(1, len(years) + 1), years, rotation=45)\n",
    "plt.title(\"Box Plot of Volume by Year\")\n",
    "plt.grid(True)\n",
    "plt.show()"
   ]
  },
  {
   "cell_type": "code",
   "execution_count": null,
   "metadata": {},
   "outputs": [],
   "source": [
    "# High vs Low Price Scatter Plot\n",
    "plt.figure(figsize=(10, 6))\n",
    "plt.scatter(df[\"High\"], df[\"Low\"], color=\"purple\", alpha=0.6)\n",
    "plt.xlabel(\"High Price\")\n",
    "plt.ylabel(\"Low Price\")\n",
    "plt.title(\"High vs Low Price Scatter Plot\")\n",
    "plt.grid(True)\n",
    "plt.show()"
   ]
  },
  {
   "cell_type": "code",
   "execution_count": null,
   "metadata": {},
   "outputs": [],
   "source": [
    "# Distribution of Close Prices\n",
    "plt.figure(figsize=(10, 6))\n",
    "plt.hist(df[\"Close\"], bins=20, color=\"salmon\", edgecolor=\"black\")\n",
    "plt.xlabel(\"Close Price\")\n",
    "plt.ylabel(\"Frequency\")\n",
    "plt.title(\"Distribution of Close Prices\")\n",
    "plt.grid(True)\n",
    "plt.show()"
   ]
  },
  {
   "cell_type": "code",
   "execution_count": null,
   "metadata": {},
   "outputs": [],
   "source": [
    "# ADA Volume Over Time\n",
    "plt.figure(figsize=(10, 6))\n",
    "plt.bar(df[\"Date\"], df[\"Volume\"], color=\"skyblue\")\n",
    "plt.xlabel(\"Date\")\n",
    "plt.ylabel(\"Volume\")\n",
    "plt.title(\"ADA Volume Over Time\")\n",
    "plt.grid(True)\n",
    "plt.show()"
   ]
  },
  {
   "cell_type": "code",
   "execution_count": null,
   "metadata": {},
   "outputs": [],
   "source": [
    "# ADA Close Price Over Time\n",
    "plt.figure(figsize=(10, 6))\n",
    "plt.plot(df[\"Date\"], df[\"Close\"], label=\"Close Price\")\n",
    "plt.xlabel(\"Date\")\n",
    "plt.ylabel(\"Close Price\")\n",
    "plt.title(\"ADA Close Price Over Time\")\n",
    "plt.grid(True)\n",
    "plt.show()"
   ]
  }
 ],
 "metadata": {
  "language_info": {
   "name": "python"
  },
  "orig_nbformat": 4
 },
 "nbformat": 4,
 "nbformat_minor": 2
}
