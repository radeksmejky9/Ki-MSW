{
 "cells": [
  {
   "cell_type": "code",
   "execution_count": 11,
   "metadata": {},
   "outputs": [
    {
     "name": "stdout",
     "output_type": "stream",
     "text": [
      "fbecbfba99235caa63515f04e5ad7746fb5d3ff84943d6574a79875be458680a\n",
      "5582\n"
     ]
    }
   ],
   "source": [
    "import datetime\n",
    "import hashlib\n",
    "import random\n",
    "\n",
    "\n",
    "tstart = str(datetime.datetime.now().microsecond) \n",
    "text = input(\"Zadejte text k vytvoření semínka: \")\n",
    "ascii_sum = sum(ord(char) for char in text) # ASCII součet\n",
    "seed = str(datetime.datetime.now().microsecond * ascii_sum * tstart)\n",
    "seed = hashlib.sha256(seed.encode()).hexdigest()\n",
    "random.seed(seed)\n",
    "print(seed)\n",
    "print(random.randint(1,10000))\n"
   ]
  }
 ],
 "metadata": {
  "kernelspec": {
   "display_name": "Python 3",
   "language": "python",
   "name": "python3"
  },
  "language_info": {
   "codemirror_mode": {
    "name": "ipython",
    "version": 3
   },
   "file_extension": ".py",
   "mimetype": "text/x-python",
   "name": "python",
   "nbconvert_exporter": "python",
   "pygments_lexer": "ipython3",
   "version": "3.11.4"
  },
  "orig_nbformat": 4
 },
 "nbformat": 4,
 "nbformat_minor": 2
}
