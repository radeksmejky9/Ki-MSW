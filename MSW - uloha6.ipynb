{
 "cells": [
  {
   "cell_type": "code",
   "execution_count": null,
   "metadata": {},
   "outputs": [],
   "source": [
    "import datetime\n",
    "import hashlib\n",
    "import random\n",
    "\n",
    "\n",
    "tstart = str(datetime.datetime.now().microsecond) \n",
    "text = input(\"Zadej text k vytvoření semínka: \")\n",
    "ascii_sum = sum(ord(char) for char in text) # ASCII součet\n",
    "seed = str(datetime.datetime.now().microsecond * ascii_sum * tstart)\n",
    "seed = hashlib.sha256(seed.encode()).hexdigest()\n",
    "random.seed(seed)\n",
    "\n",
    "print(random.randint(0, 100000))\n"
   ]
  }
 ],
 "metadata": {
  "language_info": {
   "name": "python"
  },
  "orig_nbformat": 4
 },
 "nbformat": 4,
 "nbformat_minor": 2
}
