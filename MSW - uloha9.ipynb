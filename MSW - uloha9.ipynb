{
 "cells": [
  {
   "cell_type": "code",
   "execution_count": null,
   "metadata": {},
   "outputs": [],
   "source": [
    "import numpy as np\n",
    "from scipy import integrate\n",
    "\n",
    "a = 0\n",
    "b = 1\n",
    "dx = 0.1\n",
    "\n",
    "\n",
    "def gon(x):\n",
    "    return np.cos(4 * x**2 - 7 / 3)\n",
    "\n",
    "\n",
    "def log(x):\n",
    "    return np.log(8 / 3 * x + 5)\n",
    "\n",
    "\n",
    "def pol(x):\n",
    "    return 6 * x**4 + 4 * x**3 + 2 * x**2\n",
    "\n",
    "\n",
    "def print_results(text, f, x, a, b):\n",
    "    y = f(x)\n",
    "    trapezoid_result = integrate.trapezoid(y, x, dx=dx)\n",
    "    romberg_result = integrate.romberg(f, a, b)\n",
    "    simpson_result = integrate.simpson(y, x)\n",
    "\n",
    "    print(f\"\\nVýsledky pro {text}:\")\n",
    "    print(f\"použitím lichoběžníkové metody: {trapezoid_result}\")\n",
    "    print(f\"použitím   Rombergovy   metody: {romberg_result}\")\n",
    "    print(f\"použitím   Simpsonovy   metody: {simpson_result}\")"
   ]
  },
  {
   "cell_type": "code",
   "execution_count": null,
   "metadata": {},
   "outputs": [],
   "source": [
    "x = np.linspace(a, b, int((b - a) / dx))\n",
    "print_results(\"Polynomické funkce\", pol, x, a, b)\n",
    "print_results(\"Logaritmické funkce\", log, x, a, b)\n",
    "print_results(\"Goniometrické funkce\", gon, x, a, b)"
   ]
  }
 ],
 "metadata": {
  "language_info": {
   "name": "python"
  },
  "orig_nbformat": 4
 },
 "nbformat": 4,
 "nbformat_minor": 2
}
