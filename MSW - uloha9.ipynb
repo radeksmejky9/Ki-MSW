{
 "cells": [
  {
   "cell_type": "code",
   "execution_count": 2,
   "metadata": {},
   "outputs": [],
   "source": [
    "import numpy as np\n",
    "from scipy import integrate\n",
    "\n",
    "a = 0\n",
    "b = 1\n",
    "dx = 0.1\n",
    "\n",
    "\n",
    "def gon(x):\n",
    "    return np.cos(4 * x**2 - 7 / 3)\n",
    "\n",
    "\n",
    "def log(x):\n",
    "    return np.log(8 / 3 * x + 5)\n",
    "\n",
    "\n",
    "def pol(x):\n",
    "    return 6 * x**4 + 4 * x**3 + 2 * x**2\n",
    "\n",
    "\n",
    "def print_results(text, f, x, a, b):\n",
    "    y = f(x)\n",
    "    trapezoid_result = integrate.trapezoid(y, x, dx=dx)\n",
    "    romberg_result = integrate.romberg(f, a, b)\n",
    "    simpson_result = integrate.simpson(y, x)\n",
    "\n",
    "    print(f\"\\nVýsledky pro {text}:\")\n",
    "    print(f\"použitím lichoběžníkové metody: {trapezoid_result}\")\n",
    "    print(f\"použitím   Rombergovy   metody: {romberg_result}\")\n",
    "    print(f\"použitím   Simpsonovy   metody: {simpson_result}\")"
   ]
  },
  {
   "cell_type": "code",
   "execution_count": 5,
   "metadata": {},
   "outputs": [
    {
     "name": "stdout",
     "output_type": "stream",
     "text": [
      "[0.         0.11111111 0.22222222 0.33333333 0.44444444 0.55555556\n",
      " 0.66666667 0.77777778 0.88888889 1.        ]\n",
      "\n",
      "Výsledky pro Polynomické funkce:\n",
      "použitím lichoběžníkové metody: 2.907788446883097\n",
      "použitím   Rombergovy   metody: 2.8666666666666667\n",
      "použitím   Simpsonovy   metody: 2.8677538993039677\n",
      "\n",
      "Výsledky pro Logaritmické funkce:\n",
      "použitím lichoběžníkové metody: 1.8381486503400901\n",
      "použitím   Rombergovy   metody: 1.838339455060071\n",
      "použitím   Simpsonovy   metody: 1.8383398721115707\n",
      "\n",
      "Výsledky pro Goniometrické funkce:\n",
      "použitím lichoběžníkové metody: 0.1232759146813425\n",
      "použitím   Rombergovy   metody: 0.1315821280213854\n",
      "použitím   Simpsonovy   metody: 0.13299663988169022\n"
     ]
    }
   ],
   "source": [
    "x = np.linspace(a, b, int((b - a) / dx))\n",
    "print_results(\"Polynomické funkce\", pol, x, a, b)\n",
    "print_results(\"Logaritmické funkce\", log, x, a, b)\n",
    "print_results(\"Goniometrické funkce\", gon, x, a, b)"
   ]
  }
 ],
 "metadata": {
  "kernelspec": {
   "display_name": "Python 3",
   "language": "python",
   "name": "python3"
  },
  "language_info": {
   "codemirror_mode": {
    "name": "ipython",
    "version": 3
   },
   "file_extension": ".py",
   "mimetype": "text/x-python",
   "name": "python",
   "nbconvert_exporter": "python",
   "pygments_lexer": "ipython3",
   "version": "3.11.4"
  },
  "orig_nbformat": 4
 },
 "nbformat": 4,
 "nbformat_minor": 2
}
